{
 "cells": [
  {
   "cell_type": "code",
   "execution_count": 19,
   "metadata": {
    "id": "gPQZbvNMecGb"
   },
   "outputs": [],
   "source": [
    "import sqlite3\n",
    "import pandas as pd\n",
    "\n",
    "conn= sqlite3.connect(\"datacamp_python.db\")"
   ]
  },
  {
   "cell_type": "code",
   "execution_count": 30,
   "metadata": {
    "colab": {
     "base_uri": "https://localhost:8080/",
     "height": 206
    },
    "id": "XVi9dvm-gD52",
    "outputId": "b0d09c32-02db-4406-b583-170ce4577cac"
   },
   "outputs": [
    {
     "ename": "ParserError",
     "evalue": "Error tokenizing data. C error: Expected 1 fields in line 28, saw 367\n",
     "output_type": "error",
     "traceback": [
      "\u001b[1;31m---------------------------------------------------------------------------\u001b[0m",
      "\u001b[1;31mParserError\u001b[0m                               Traceback (most recent call last)",
      "\u001b[1;32m<ipython-input-30-5758e17411c3>\u001b[0m in \u001b[0;36m<module>\u001b[1;34m\u001b[0m\n\u001b[0;32m      3\u001b[0m \u001b[1;33m\u001b[0m\u001b[0m\n\u001b[0;32m      4\u001b[0m \u001b[1;31m#Load the CSV into a Pandas dataframe\u001b[0m\u001b[1;33m\u001b[0m\u001b[1;33m\u001b[0m\u001b[1;33m\u001b[0m\u001b[0m\n\u001b[1;32m----> 5\u001b[1;33m \u001b[0mdata\u001b[0m \u001b[1;33m=\u001b[0m \u001b[0mpd\u001b[0m\u001b[1;33m.\u001b[0m\u001b[0mread_csv\u001b[0m\u001b[1;33m(\u001b[0m\u001b[0murl\u001b[0m\u001b[1;33m)\u001b[0m\u001b[1;33m\u001b[0m\u001b[1;33m\u001b[0m\u001b[0m\n\u001b[0m\u001b[0;32m      6\u001b[0m \u001b[0mdata\u001b[0m\u001b[1;33m.\u001b[0m\u001b[0mhead\u001b[0m\u001b[1;33m(\u001b[0m\u001b[1;33m)\u001b[0m\u001b[1;33m\u001b[0m\u001b[1;33m\u001b[0m\u001b[0m\n",
      "\u001b[1;32m~\\anaconda3\\lib\\site-packages\\pandas\\io\\parsers.py\u001b[0m in \u001b[0;36mread_csv\u001b[1;34m(filepath_or_buffer, sep, delimiter, header, names, index_col, usecols, squeeze, prefix, mangle_dupe_cols, dtype, engine, converters, true_values, false_values, skipinitialspace, skiprows, skipfooter, nrows, na_values, keep_default_na, na_filter, verbose, skip_blank_lines, parse_dates, infer_datetime_format, keep_date_col, date_parser, dayfirst, cache_dates, iterator, chunksize, compression, thousands, decimal, lineterminator, quotechar, quoting, doublequote, escapechar, comment, encoding, dialect, error_bad_lines, warn_bad_lines, delim_whitespace, low_memory, memory_map, float_precision)\u001b[0m\n\u001b[0;32m    684\u001b[0m     )\n\u001b[0;32m    685\u001b[0m \u001b[1;33m\u001b[0m\u001b[0m\n\u001b[1;32m--> 686\u001b[1;33m     \u001b[1;32mreturn\u001b[0m \u001b[0m_read\u001b[0m\u001b[1;33m(\u001b[0m\u001b[0mfilepath_or_buffer\u001b[0m\u001b[1;33m,\u001b[0m \u001b[0mkwds\u001b[0m\u001b[1;33m)\u001b[0m\u001b[1;33m\u001b[0m\u001b[1;33m\u001b[0m\u001b[0m\n\u001b[0m\u001b[0;32m    687\u001b[0m \u001b[1;33m\u001b[0m\u001b[0m\n\u001b[0;32m    688\u001b[0m \u001b[1;33m\u001b[0m\u001b[0m\n",
      "\u001b[1;32m~\\anaconda3\\lib\\site-packages\\pandas\\io\\parsers.py\u001b[0m in \u001b[0;36m_read\u001b[1;34m(filepath_or_buffer, kwds)\u001b[0m\n\u001b[0;32m    456\u001b[0m \u001b[1;33m\u001b[0m\u001b[0m\n\u001b[0;32m    457\u001b[0m     \u001b[1;32mtry\u001b[0m\u001b[1;33m:\u001b[0m\u001b[1;33m\u001b[0m\u001b[1;33m\u001b[0m\u001b[0m\n\u001b[1;32m--> 458\u001b[1;33m         \u001b[0mdata\u001b[0m \u001b[1;33m=\u001b[0m \u001b[0mparser\u001b[0m\u001b[1;33m.\u001b[0m\u001b[0mread\u001b[0m\u001b[1;33m(\u001b[0m\u001b[0mnrows\u001b[0m\u001b[1;33m)\u001b[0m\u001b[1;33m\u001b[0m\u001b[1;33m\u001b[0m\u001b[0m\n\u001b[0m\u001b[0;32m    459\u001b[0m     \u001b[1;32mfinally\u001b[0m\u001b[1;33m:\u001b[0m\u001b[1;33m\u001b[0m\u001b[1;33m\u001b[0m\u001b[0m\n\u001b[0;32m    460\u001b[0m         \u001b[0mparser\u001b[0m\u001b[1;33m.\u001b[0m\u001b[0mclose\u001b[0m\u001b[1;33m(\u001b[0m\u001b[1;33m)\u001b[0m\u001b[1;33m\u001b[0m\u001b[1;33m\u001b[0m\u001b[0m\n",
      "\u001b[1;32m~\\anaconda3\\lib\\site-packages\\pandas\\io\\parsers.py\u001b[0m in \u001b[0;36mread\u001b[1;34m(self, nrows)\u001b[0m\n\u001b[0;32m   1194\u001b[0m     \u001b[1;32mdef\u001b[0m \u001b[0mread\u001b[0m\u001b[1;33m(\u001b[0m\u001b[0mself\u001b[0m\u001b[1;33m,\u001b[0m \u001b[0mnrows\u001b[0m\u001b[1;33m=\u001b[0m\u001b[1;32mNone\u001b[0m\u001b[1;33m)\u001b[0m\u001b[1;33m:\u001b[0m\u001b[1;33m\u001b[0m\u001b[1;33m\u001b[0m\u001b[0m\n\u001b[0;32m   1195\u001b[0m         \u001b[0mnrows\u001b[0m \u001b[1;33m=\u001b[0m \u001b[0m_validate_integer\u001b[0m\u001b[1;33m(\u001b[0m\u001b[1;34m\"nrows\"\u001b[0m\u001b[1;33m,\u001b[0m \u001b[0mnrows\u001b[0m\u001b[1;33m)\u001b[0m\u001b[1;33m\u001b[0m\u001b[1;33m\u001b[0m\u001b[0m\n\u001b[1;32m-> 1196\u001b[1;33m         \u001b[0mret\u001b[0m \u001b[1;33m=\u001b[0m \u001b[0mself\u001b[0m\u001b[1;33m.\u001b[0m\u001b[0m_engine\u001b[0m\u001b[1;33m.\u001b[0m\u001b[0mread\u001b[0m\u001b[1;33m(\u001b[0m\u001b[0mnrows\u001b[0m\u001b[1;33m)\u001b[0m\u001b[1;33m\u001b[0m\u001b[1;33m\u001b[0m\u001b[0m\n\u001b[0m\u001b[0;32m   1197\u001b[0m \u001b[1;33m\u001b[0m\u001b[0m\n\u001b[0;32m   1198\u001b[0m         \u001b[1;31m# May alter columns / col_dict\u001b[0m\u001b[1;33m\u001b[0m\u001b[1;33m\u001b[0m\u001b[1;33m\u001b[0m\u001b[0m\n",
      "\u001b[1;32m~\\anaconda3\\lib\\site-packages\\pandas\\io\\parsers.py\u001b[0m in \u001b[0;36mread\u001b[1;34m(self, nrows)\u001b[0m\n\u001b[0;32m   2153\u001b[0m     \u001b[1;32mdef\u001b[0m \u001b[0mread\u001b[0m\u001b[1;33m(\u001b[0m\u001b[0mself\u001b[0m\u001b[1;33m,\u001b[0m \u001b[0mnrows\u001b[0m\u001b[1;33m=\u001b[0m\u001b[1;32mNone\u001b[0m\u001b[1;33m)\u001b[0m\u001b[1;33m:\u001b[0m\u001b[1;33m\u001b[0m\u001b[1;33m\u001b[0m\u001b[0m\n\u001b[0;32m   2154\u001b[0m         \u001b[1;32mtry\u001b[0m\u001b[1;33m:\u001b[0m\u001b[1;33m\u001b[0m\u001b[1;33m\u001b[0m\u001b[0m\n\u001b[1;32m-> 2155\u001b[1;33m             \u001b[0mdata\u001b[0m \u001b[1;33m=\u001b[0m \u001b[0mself\u001b[0m\u001b[1;33m.\u001b[0m\u001b[0m_reader\u001b[0m\u001b[1;33m.\u001b[0m\u001b[0mread\u001b[0m\u001b[1;33m(\u001b[0m\u001b[0mnrows\u001b[0m\u001b[1;33m)\u001b[0m\u001b[1;33m\u001b[0m\u001b[1;33m\u001b[0m\u001b[0m\n\u001b[0m\u001b[0;32m   2156\u001b[0m         \u001b[1;32mexcept\u001b[0m \u001b[0mStopIteration\u001b[0m\u001b[1;33m:\u001b[0m\u001b[1;33m\u001b[0m\u001b[1;33m\u001b[0m\u001b[0m\n\u001b[0;32m   2157\u001b[0m             \u001b[1;32mif\u001b[0m \u001b[0mself\u001b[0m\u001b[1;33m.\u001b[0m\u001b[0m_first_chunk\u001b[0m\u001b[1;33m:\u001b[0m\u001b[1;33m\u001b[0m\u001b[1;33m\u001b[0m\u001b[0m\n",
      "\u001b[1;32mpandas\\_libs\\parsers.pyx\u001b[0m in \u001b[0;36mpandas._libs.parsers.TextReader.read\u001b[1;34m()\u001b[0m\n",
      "\u001b[1;32mpandas\\_libs\\parsers.pyx\u001b[0m in \u001b[0;36mpandas._libs.parsers.TextReader._read_low_memory\u001b[1;34m()\u001b[0m\n",
      "\u001b[1;32mpandas\\_libs\\parsers.pyx\u001b[0m in \u001b[0;36mpandas._libs.parsers.TextReader._read_rows\u001b[1;34m()\u001b[0m\n",
      "\u001b[1;32mpandas\\_libs\\parsers.pyx\u001b[0m in \u001b[0;36mpandas._libs.parsers.TextReader._tokenize_rows\u001b[1;34m()\u001b[0m\n",
      "\u001b[1;32mpandas\\_libs\\parsers.pyx\u001b[0m in \u001b[0;36mpandas._libs.parsers.raise_parser_error\u001b[1;34m()\u001b[0m\n",
      "\u001b[1;31mParserError\u001b[0m: Error tokenizing data. C error: Expected 1 fields in line 28, saw 367\n"
     ]
    }
   ],
   "source": [
    "#set the file parameters\n",
    "url = 'https://github.com/Moonlamyh/Dataset/blob/main/Mens_Tennis_Grand_Slam_Winner.csv'\n",
    "\n",
    "#Load the CSV into a Pandas dataframe\n",
    "data = pd.read_csv(url)\n",
    "data.head()"
   ]
  },
  {
   "cell_type": "code",
   "execution_count": null,
   "metadata": {
    "id": "BHvxxBHzIqTc"
   },
   "outputs": [],
   "source": [
    "data.to_sql(\n",
    "            'Mens_Tennis_Grand_Slam_Winner',             # Name of the sql table\n",
    "            conn,                 # sqlite.Connection or sqlalchemy.engine.Engine\n",
    "            if_exists='replace'\n",
    "           )"
   ]
  },
  {
   "cell_type": "code",
   "execution_count": 21,
   "metadata": {
    "colab": {
     "base_uri": "https://localhost:8080/"
    },
    "id": "EulO3de7J5pJ",
    "outputId": "fd061f1f-5ea6-45ae-9abd-a15d7cf38a32"
   },
   "outputs": [
    {
     "data": {
      "text/plain": [
       "(2022, 'French Open', 5.0, 'Spanish', 'Clay')"
      ]
     },
     "execution_count": 21,
     "metadata": {},
     "output_type": "execute_result"
    }
   ],
   "source": [
    "cursor = conn.cursor()\n",
    "cursor.execute(\"\"\"SELECT YEAR, TOURNAMENT, WINNER_ATP_RANKING, WINNER_NATIONALITY, TOURNAMENT_SURFACE  \n",
    "                  FROM Mens_Tennis_Grand_Slam_Winner\n",
    "                  \"\"\")\n",
    "cursor.fetchone()"
   ]
  },
  {
   "cell_type": "code",
   "execution_count": 22,
   "metadata": {
    "colab": {
     "base_uri": "https://localhost:8080/"
    },
    "id": "oY8BJVdlK9kJ",
    "outputId": "ac5bd258-5c65-4f63-8d8d-b47994c7dc5c"
   },
   "outputs": [
    {
     "data": {
      "text/plain": [
       "[(2022, 'Australian Open', 5.0, 'Spanish', 'Plexicushion Prestige'),\n",
       " (2021, 'U.S. Open', 2.0, 'Russian', 'DecoTurf - outdoors'),\n",
       " (2021, 'Wimbledon', 1.0, 'Serbian', 'Grass / Outdoor'),\n",
       " (2021, 'French Open', 1.0, 'Serbian', 'Clay'),\n",
       " (2021, 'Australian Open', 1.0, 'Serbian', 'Plexicushion Prestige'),\n",
       " (2020, 'French Open', 2.0, 'Spanish', 'Clay'),\n",
       " (2020, 'U.S. Open', 3.0, 'Austrian', 'DecoTurf - outdoors'),\n",
       " (2020, 'Australian Open', 1.0, 'Serbian', 'Plexicushion Prestige'),\n",
       " (2019, 'U.S. Open', 1.0, 'Spanish', 'DecoTurf - outdoors'),\n",
       " (2019, 'Wimbledon', 2.0, 'Serbian', 'Grass / Outdoor'),\n",
       " (2019, 'French Open', 1.0, 'Spanish', 'Clay'),\n",
       " (2019, 'Australian Open', 2.0, 'Serbian', 'Plexicushion Prestige'),\n",
       " (2018, 'U.S. Open', 1.0, 'Serbian', 'DecoTurf - outdoors'),\n",
       " (2018, 'Wimbledon', 1.0, 'Serbian', 'Grass / Outdoor'),\n",
       " (2018, 'French Open', 2.0, 'Spanish', 'Clay'),\n",
       " (2018, 'Australian Open', 3.0, 'Swiss', 'Plexicushion Prestige'),\n",
       " (2017, 'U.S. Open', 1.0, 'Spanish', 'DecoTurf - outdoors'),\n",
       " (2017, 'Wimbledon', 2.0, 'Swiss', 'Grass / Outdoor'),\n",
       " (2017, 'French Open', 1.0, 'Spanish', 'Clay'),\n",
       " (2017, 'Australian Open', 2.0, 'Swiss', 'Plexicushion Prestige'),\n",
       " (2016, 'U.S. Open', 4.0, 'Swiss', 'DecoTurf - outdoors'),\n",
       " (2016, 'Wimbledon', 1.0, 'British', 'Grass / Outdoor'),\n",
       " (2016, 'French Open', 2.0, 'Serbian', 'Clay'),\n",
       " (2016, 'Australian Open', 2.0, 'Serbian', 'Plexicushion Prestige'),\n",
       " (2015, 'U.S. Open', 1.0, 'Serbian', 'DecoTurf - outdoors'),\n",
       " (2015, 'Wimbledon', 1.0, 'Serbian', 'Grass / Outdoor'),\n",
       " (2015, 'French Open', 4.0, 'Swiss', 'Clay'),\n",
       " (2015, 'Australian Open', 1.0, 'Serbian', 'Plexicushion Prestige'),\n",
       " (2014, 'U.S. Open', 9.0, 'Croatian', 'DecoTurf - outdoors'),\n",
       " (2014, 'Wimbledon', 1.0, 'Serbian', 'Grass / Outdoor'),\n",
       " (2014, 'French Open', 3.0, 'Spanish', 'Clay'),\n",
       " (2014, 'Australian Open', 4.0, 'Swiss', 'Plexicushion Prestige'),\n",
       " (2013, 'U.S. Open', 1.0, 'Spanish', 'DecoTurf - outdoors'),\n",
       " (2013, 'Wimbledon', 4.0, 'British', 'Grass / Outdoor'),\n",
       " (2013, 'French Open', 1.0, 'Spanish', 'Clay'),\n",
       " (2013, 'Australian Open', 2.0, 'Serbian', 'Plexicushion Prestige'),\n",
       " (2012, 'U.S. Open', 3.0, 'British', 'DecoTurf - outdoors'),\n",
       " (2012, 'Wimbledon', 2.0, 'Swiss', 'Grass / Outdoor'),\n",
       " (2012, 'French Open', 4.0, 'Spanish', 'Clay'),\n",
       " (2012, 'Australian Open', 1.0, 'Serbian', 'Plexicushion Prestige'),\n",
       " (2011, 'U.S. Open', 1.0, 'Serbian', 'DecoTurf - outdoors'),\n",
       " (2011, 'Wimbledon', 1.0, 'Serbian', 'Grass / Outdoor'),\n",
       " (2011, 'French Open', 2.0, 'Spanish', 'Clay'),\n",
       " (2011, 'Australian Open', 1.0, 'Serbian', 'Plexicushion Prestige'),\n",
       " (2010, 'U.S. Open', 1.0, 'Spanish', 'DecoTurf - outdoors'),\n",
       " (2010, 'Wimbledon', 1.0, 'Spanish', 'Grass / Outdoor'),\n",
       " (2010, 'French Open', 1.0, 'Spanish', 'Clay'),\n",
       " (2010, 'Australian Open', 2.0, 'Swiss', 'Plexicushion Prestige'),\n",
       " (2009, 'U.S. Open', 5.0, 'Argentine', 'DecoTurf - outdoors'),\n",
       " (2009, 'Wimbledon', 1.0, 'Swiss', 'Grass / Outdoor'),\n",
       " (2009, 'French Open', 1.0, 'Swiss', 'Clay'),\n",
       " (2009, 'Australian Open', 2.0, 'Spanish', 'Plexicushion Prestige'),\n",
       " (2008, 'U.S. Open', 2.0, 'Swiss', 'DecoTurf - outdoors'),\n",
       " (2008, 'Wimbledon', 1.0, 'Spanish', 'Grass / Outdoor'),\n",
       " (2008, 'French Open', 1.0, 'Spanish', 'Clay'),\n",
       " (2008, 'Australian Open', 3.0, 'Serbian', 'Plexicushion Prestige'),\n",
       " (2007, 'U.S. Open', 1.0, 'Swiss', 'DecoTurf - outdoors'),\n",
       " (2007, 'Wimbledon', 1.0, 'Swiss', 'Grass / Outdoor'),\n",
       " (2007, 'French Open', 2.0, 'Spanish', 'Clay'),\n",
       " (2007, 'Australian Open', 1.0, 'Swiss', 'Rebound Ace'),\n",
       " (2006, 'U.S. Open', None, 'Swiss', 'DecoTurf - outdoors'),\n",
       " (2006, 'Wimbledon', None, 'Swiss', 'Grass / Outdoor'),\n",
       " (2006, 'French Open', None, 'Spanish', 'Clay'),\n",
       " (2006, 'Australian Open', None, 'Swiss', 'Rebound Ace'),\n",
       " (2005, 'U.S. Open', None, 'Swiss', 'DecoTurf - outdoors'),\n",
       " (2005, 'Wimbledon', None, 'Swiss', 'Grass / Outdoor'),\n",
       " (2005, 'French Open', None, 'Spanish', 'Clay'),\n",
       " (2005, 'Australian Open', None, 'Russian', 'Rebound Ace'),\n",
       " (2004, 'U.S. Open', None, 'Swiss', 'DecoTurf - outdoors'),\n",
       " (2004, 'Wimbledon', None, 'Swiss', 'Grass / Outdoor'),\n",
       " (2004, 'French Open', None, 'Argentine', 'Clay'),\n",
       " (2004, 'Australian Open', None, 'Swiss', 'Rebound Ace'),\n",
       " (2003, 'U.S. Open', None, 'American', 'DecoTurf - outdoors'),\n",
       " (2003, 'Wimbledon', None, 'Swiss', 'Grass / Outdoor'),\n",
       " (2003, 'French Open', None, 'Spanish', 'Clay'),\n",
       " (2003, 'Australian Open', None, 'American', 'Rebound Ace'),\n",
       " (2002, 'U.S. Open', None, 'American', 'DecoTurf - outdoors'),\n",
       " (2002, 'Wimbledon', None, 'Australian', 'Grass / Outdoor'),\n",
       " (2002, 'French Open', None, 'Spanish', 'Clay'),\n",
       " (2002, 'Australian Open', None, 'Swedish', 'Rebound Ace'),\n",
       " (2001, 'U.S. Open', None, 'Australian', 'DecoTurf - outdoors'),\n",
       " (2001, 'Wimbledon', None, 'Croatian', 'Grass / Outdoor'),\n",
       " (2001, 'French Open', None, 'Brazilian', 'Clay'),\n",
       " (2001, 'Australian Open', None, 'American', 'Rebound Ace'),\n",
       " (2000, 'U.S. Open', None, 'Russian', 'DecoTurf - outdoors'),\n",
       " (2000, 'Wimbledon', None, 'American', 'Grass / Outdoor'),\n",
       " (2000, 'French Open', None, 'Brazilian', 'Clay'),\n",
       " (2000, 'Australian Open', None, 'American', 'Rebound Ace'),\n",
       " (1999, 'U.S. Open', None, 'American', 'DecoTurf - outdoors'),\n",
       " (1999, 'Wimbledon', None, 'American', 'Grass / Outdoor'),\n",
       " (1999, 'French Open', None, 'American', 'Clay'),\n",
       " (1999, 'Australian Open', None, 'Russian', 'Rebound Ace'),\n",
       " (1998, 'U.S. Open', None, 'Australian', 'DecoTurf - outdoors'),\n",
       " (1998, 'Wimbledon', None, 'American', 'Grass / Outdoor'),\n",
       " (1998, 'French Open', None, 'Spanish', 'Clay'),\n",
       " (1998, 'Australian Open', None, 'Czech', 'Rebound Ace'),\n",
       " (1997, 'U.S. Open', None, 'Australian', 'DecoTurf - outdoors'),\n",
       " (1997, 'Wimbledon', None, 'American', 'Grass / Outdoor'),\n",
       " (1997, 'French Open', None, 'Brazilian', 'Clay'),\n",
       " (1997, 'Australian Open', None, 'American', 'Rebound Ace'),\n",
       " (1996, 'U.S. Open', None, 'American', 'DecoTurf - outdoors'),\n",
       " (1996, 'Wimbledon', None, 'Dutch', 'Grass / Outdoor'),\n",
       " (1996, 'French Open', None, 'Russian', 'Clay'),\n",
       " (1996, 'Australian Open', None, 'German', 'Rebound Ace'),\n",
       " (1995, 'U.S. Open', None, 'American', 'DecoTurf - outdoors'),\n",
       " (1995, 'Wimbledon', None, 'American', 'Grass / Outdoor'),\n",
       " (1995, 'French Open', None, 'Austrian', 'Clay'),\n",
       " (1995, 'Australian Open', None, 'American', 'Rebound Ace'),\n",
       " (1994, 'U.S. Open', None, 'American', 'DecoTurf - outdoors'),\n",
       " (1994, 'Wimbledon', None, 'American', 'Grass / Outdoor'),\n",
       " (1994, 'French Open', None, 'Spanish', 'Clay'),\n",
       " (1994, 'Australian Open', None, 'American', 'Rebound Ace'),\n",
       " (1993, 'U.S. Open', None, 'American', 'DecoTurf - outdoors'),\n",
       " (1993, 'Wimbledon', None, 'American', 'Grass / Outdoor'),\n",
       " (1993, 'French Open', None, 'Spanish', 'Clay'),\n",
       " (1993, 'Australian Open', None, 'American', 'Rebound Ace'),\n",
       " (1992, 'U.S. Open', None, 'Swedish', 'DecoTurf - outdoors'),\n",
       " (1992, 'Wimbledon', None, 'American', 'Grass / Outdoor'),\n",
       " (1992, 'French Open', None, 'American', 'Clay'),\n",
       " (1992, 'Australian Open', None, 'American', 'Rebound Ace'),\n",
       " (1991, 'U.S. Open', None, 'Swedish', 'DecoTurf - outdoors'),\n",
       " (1991, 'Wimbledon', None, 'German', 'Grass / Outdoor'),\n",
       " (1991, 'French Open', None, 'American', 'Clay'),\n",
       " (1991, 'Australian Open', None, 'German', 'Rebound Ace'),\n",
       " (1990, 'U.S. Open', None, 'American', 'DecoTurf - outdoors'),\n",
       " (1990, 'Wimbledon', None, 'Swedish', 'Grass / Outdoor'),\n",
       " (1990, 'French Open', None, 'Ecuadorian', 'Clay'),\n",
       " (1990, 'Australian Open', None, 'Czechoslovakia', 'Rebound Ace'),\n",
       " (1989, 'U.S. Open', None, 'German', 'DecoTurf - outdoors'),\n",
       " (1989, 'Wimbledon', None, 'German', 'Grass / Outdoor'),\n",
       " (1989, 'French Open', None, 'American', 'Clay'),\n",
       " (1989, 'Australian Open', None, 'Czechoslovakia', 'Rebound Ace'),\n",
       " (1988, 'U.S. Open', None, 'Swedish', 'DecoTurf - outdoors'),\n",
       " (1988, 'Wimbledon', None, 'Swedish', 'Grass / Outdoor'),\n",
       " (1988, 'French Open', None, 'Swedish', 'Clay'),\n",
       " (1988, 'Australian Open', None, 'Swedish', 'Rebound Ace'),\n",
       " (1987, 'U.S. Open', None, 'Czechoslovakia', 'DecoTurf - outdoors'),\n",
       " (1987, 'Wimbledon', None, 'Australian', 'Grass / Outdoor'),\n",
       " (1987, 'French Open', None, 'Czechoslovakia', 'Clay'),\n",
       " (1987, 'Australian Open', None, 'Swedish', 'Grass'),\n",
       " (1986, 'U.S. Open', None, 'Czechoslovakia', 'DecoTurf - outdoors'),\n",
       " (1986, 'Wimbledon', None, 'German', 'Grass / Outdoor'),\n",
       " (1986, 'French Open', None, 'Czechoslovakia', 'Clay'),\n",
       " (1985, 'Australian Open', None, 'Swedish', 'Grass'),\n",
       " (1985, 'U.S. Open', None, 'Czechoslovakia', 'DecoTurf - outdoors'),\n",
       " (1985, 'Wimbledon', None, 'German', 'Grass / Outdoor'),\n",
       " (1985, 'French Open', None, 'Swedish', 'Clay'),\n",
       " (1984, 'Australian Open', None, 'Swedish', 'Grass'),\n",
       " (1984, 'U.S. Open', None, 'American', 'DecoTurf - outdoors'),\n",
       " (1984, 'Wimbledon', None, 'American', 'Grass / Outdoor'),\n",
       " (1984, 'French Open', None, 'Czechoslovakia', 'Clay'),\n",
       " (1983, 'Australian Open', None, 'Swedish', 'Grass'),\n",
       " (1983, 'U.S. Open', None, 'American', 'DecoTurf - outdoors'),\n",
       " (1983, 'Wimbledon', None, 'American', 'Grass / Outdoor'),\n",
       " (1983, 'French Open', None, 'French', 'Clay'),\n",
       " (1982, 'Australian Open', None, 'American', 'Grass'),\n",
       " (1982, 'U.S. Open', None, 'American', 'DecoTurf - outdoors'),\n",
       " (1982, 'Wimbledon', None, 'American', 'Grass / Outdoor'),\n",
       " (1982, 'French Open', None, 'Swedish', 'Clay'),\n",
       " (1981, 'Australian Open', None, 'American', 'Grass'),\n",
       " (1981, 'U.S. Open', None, 'American', 'DecoTurf - outdoors'),\n",
       " (1981, 'Wimbledon', None, 'American', 'Grass / Outdoor'),\n",
       " (1981, 'French Open', None, 'Swedish', 'Clay'),\n",
       " (1980, 'Australian Open', None, 'American', 'Grass'),\n",
       " (1980, 'U.S. Open', None, 'American', 'DecoTurf - outdoors'),\n",
       " (1980, 'Wimbledon', None, 'Swedish', 'Grass / Outdoor'),\n",
       " (1980, 'French Open', None, 'Swedish', 'Clay'),\n",
       " (1979, 'Australian Open', None, 'Argentine', 'Grass'),\n",
       " (1979, 'U.S. Open', None, 'American', 'DecoTurf - outdoors'),\n",
       " (1979, 'Wimbledon', None, 'Swedish', 'Grass / Outdoor'),\n",
       " (1979, 'French Open', None, 'Swedish', 'Clay'),\n",
       " (1978, 'Australian Open', None, 'Argentine', 'Grass'),\n",
       " (1978, 'U.S. Open', None, 'American', 'DecoTurf - outdoors'),\n",
       " (1978, 'Wimbledon', None, 'Swedish', 'Grass / Outdoor'),\n",
       " (1978, 'French Open', None, 'Swedish', 'Clay'),\n",
       " (1977, 'Australian Open (Dec)', None, 'American', 'Grass'),\n",
       " (1977, 'U.S. Open', None, 'Argentine', 'Clay - outdoors'),\n",
       " (1977, 'Wimbledon', None, 'Swedish', 'Grass / Outdoor'),\n",
       " (1977, 'French Open', None, 'Argentine', 'Clay'),\n",
       " (1977, 'Australian Open (Jan)', None, 'American', 'Grass'),\n",
       " (1976, 'U.S. Open', None, 'American', 'Clay - outdoors'),\n",
       " (1976, 'Wimbledon', None, 'Swedish', 'Grass / Outdoor'),\n",
       " (1976, 'French Open', None, 'Italian', 'Clay'),\n",
       " (1976, 'Australian Open', None, 'Australian', 'Grass'),\n",
       " (1975, 'U.S. Open', None, 'American', 'Clay - outdoors'),\n",
       " (1975, 'Wimbledon', None, 'American', 'Grass / Outdoor'),\n",
       " (1975, 'French Open', None, 'Swedish', 'Clay'),\n",
       " (1975, 'Australian Open', None, 'Australian', 'Grass'),\n",
       " (1974, 'U.S. Open', None, 'American', 'outdoors'),\n",
       " (1974, 'Wimbledon', None, 'American', 'Grass / Outdoor'),\n",
       " (1974, 'French Open', None, 'Swedish', 'Clay'),\n",
       " (1974, 'Australian Open', None, 'American', 'Grass'),\n",
       " (1973, 'U.S. Open', None, 'Australian', 'outdoors'),\n",
       " (1973, 'Wimbledon', None, 'Czech', 'Grass / Outdoor'),\n",
       " (1973, 'French Open', None, 'Romanian', 'Clay'),\n",
       " (1973, 'Australian Open', None, 'Australian', 'Grass'),\n",
       " (1972, 'U.S. Open', None, 'Romanian', 'outdoors'),\n",
       " (1972, 'Wimbledon', None, 'American', 'Grass / Outdoor'),\n",
       " (1972, 'French Open', None, 'Spanish', 'Clay'),\n",
       " (1972, 'Australian Open', None, 'Australian', 'Grass'),\n",
       " (1971, 'U.S. Open', None, 'American', 'outdoors'),\n",
       " (1971, 'Wimbledon', None, 'Australian', 'Grass / Outdoor'),\n",
       " (1971, 'French Open', None, 'Czech', 'Clay'),\n",
       " (1971, 'Australian Open', None, 'Australian', 'Grass'),\n",
       " (1970, 'U.S. Open', None, 'Australian', 'outdoors'),\n",
       " (1970, 'Wimbledon', None, 'Australian', 'Grass / Outdoor'),\n",
       " (1970, 'French Open', None, 'Czech', 'Clay'),\n",
       " (1970, 'Australian Open', None, 'American', 'Grass'),\n",
       " (1969, 'U.S. Open', None, 'Australian', 'outdoors'),\n",
       " (1969, 'Wimbledon', None, 'Australian', 'Grass / Outdoor'),\n",
       " (1969, 'French Open', None, 'Australian', 'Clay'),\n",
       " (1969, 'Australian Open', None, 'Australian', 'Grass'),\n",
       " (1968, 'U.S. Open', None, 'American', 'outdoors'),\n",
       " (1968, 'Wimbledon', None, 'Australian', 'Grass / Outdoor'),\n",
       " (1968, 'French Open', None, 'Australian', 'Clay'),\n",
       " (1968, 'Australian Open', None, 'Australian', 'Grass'),\n",
       " (1967, 'U.S. Open', None, 'Australian', 'outdoors'),\n",
       " (1967, 'Wimbledon', None, 'Australian', 'Grass / Outdoor'),\n",
       " (1967, 'French Open', None, 'Australian', 'Clay'),\n",
       " (1967, 'Australian Open', None, 'Australian', 'Grass'),\n",
       " (1966, 'U.S. Open', None, 'Australian', 'outdoors'),\n",
       " (1966, 'Wimbledon', None, 'Spanish', 'Grass / Outdoor'),\n",
       " (1966, 'French Open', None, 'Australian', 'Clay'),\n",
       " (1966, 'Australian Open', None, 'Australian', 'Grass'),\n",
       " (1965, 'U.S. Open', None, 'Spanish', 'outdoors'),\n",
       " (1965, 'Wimbledon', None, 'Australian', 'Grass / Outdoor'),\n",
       " (1965, 'French Open', None, 'Australian', 'Clay'),\n",
       " (1965, 'Australian Open', None, 'Australian', 'Grass'),\n",
       " (1964, 'U.S. Open', None, 'Australian', 'outdoors'),\n",
       " (1964, 'Wimbledon', None, 'Australian', 'Grass / Outdoor'),\n",
       " (1964, 'French Open', None, 'Spanish', 'Clay'),\n",
       " (1964, 'Australian Open', None, 'Australian', 'Grass'),\n",
       " (1963, 'U.S. Open', None, 'Mexican', 'outdoors'),\n",
       " (1963, 'Wimbledon', None, 'American', 'Grass / Outdoor'),\n",
       " (1963, 'French Open', None, 'Australian', 'Clay'),\n",
       " (1963, 'Australian Open', None, 'Australian', 'Grass'),\n",
       " (1962, 'U.S. Open', None, 'Australian', 'outdoors'),\n",
       " (1962, 'Wimbledon', None, 'Australian', 'Grass / Outdoor'),\n",
       " (1962, 'French Open', None, 'Australian', 'Clay'),\n",
       " (1962, 'Australian Open', None, 'Australian', 'Grass'),\n",
       " (1961, 'U.S. Open', None, 'Australian', 'outdoors'),\n",
       " (1961, 'Wimbledon', None, 'Australian', 'Grass / Outdoor'),\n",
       " (1961, 'French Open', None, 'Spanish', 'Clay'),\n",
       " (1961, 'Australian Open', None, 'Australian', 'Grass'),\n",
       " (1960, 'U.S. Open', None, 'Australian', 'outdoors'),\n",
       " (1960, 'Wimbledon', None, 'Australian', 'Grass / Outdoor'),\n",
       " (1960, 'French Open', None, 'Italian', 'Clay'),\n",
       " (1960, 'Australian Open', None, 'Australian', 'Grass'),\n",
       " (1959, 'U.S. Open', None, 'Australian', 'outdoors'),\n",
       " (1959, 'Wimbledon', None, 'peruvian', 'Grass / Outdoor'),\n",
       " (1959, 'French Open', None, 'Italian', 'Clay'),\n",
       " (1959, 'Australian Open', None, 'peruvian', 'Grass'),\n",
       " (1958, 'U.S. Open', None, 'Australian', 'outdoors'),\n",
       " (1958, 'Wimbledon', None, 'Australian', 'Grass / Outdoor'),\n",
       " (1958, 'French Open', None, 'Australian', 'Clay'),\n",
       " (1958, 'Australian Open', None, 'Australian', 'Grass'),\n",
       " (1957, 'U.S. Open', None, 'Australian', 'outdoors'),\n",
       " (1957, 'Wimbledon', None, 'Australian', 'Grass / Outdoor'),\n",
       " (1957, 'French Open', None, 'Swedish', 'Clay'),\n",
       " (1957, 'Australian Open', None, 'Australian', 'Grass'),\n",
       " (1956, 'U.S. Open', None, 'Australian', 'outdoors'),\n",
       " (1956, 'Wimbledon', None, 'Australian', 'Grass / Outdoor'),\n",
       " (1956, 'French Open', None, 'Australian', 'Clay'),\n",
       " (1956, 'Australian Open', None, 'Australian', 'Grass'),\n",
       " (1955, 'U.S. Open', None, 'American', 'outdoors'),\n",
       " (1955, 'Wimbledon', None, 'American', 'Grass / Outdoor'),\n",
       " (1955, 'French Open', None, 'American', 'Clay'),\n",
       " (1955, 'Australian Open', None, 'Australian', 'Grass'),\n",
       " (1954, 'U.S. Open', None, 'American', 'outdoors'),\n",
       " (1954, 'Wimbledon', None, 'Czechoslovak', 'Grass / Outdoor'),\n",
       " (1954, 'French Open', None, 'American', 'Clay'),\n",
       " (1954, 'Australian Open', None, 'Australian', 'Grass'),\n",
       " (1953, 'U.S. Open', None, 'American', 'outdoors'),\n",
       " (1953, 'Wimbledon', None, 'American', 'Grass / Outdoor'),\n",
       " (1953, 'French Open', None, 'Australian', 'Clay'),\n",
       " (1953, 'Australian Open', None, 'Australian', 'Grass'),\n",
       " (1952, 'U.S. Open', None, 'Australian', 'outdoors'),\n",
       " (1952, 'Wimbledon', None, 'Australian', 'Grass / Outdoor'),\n",
       " (1952, 'French Open', None, 'Czechoslovak', 'Clay'),\n",
       " (1952, 'Australian Open', None, 'Australian', 'Grass'),\n",
       " (1951, 'U.S. Open', None, 'Australian', 'outdoors'),\n",
       " (1951, 'Wimbledon', None, 'American', 'Grass / Outdoor'),\n",
       " (1951, 'French Open', None, 'Czechoslovak', 'Clay'),\n",
       " (1951, 'Australian Open', None, 'American', 'Grass'),\n",
       " (1950, 'U.S. Open', None, 'American', 'outdoors'),\n",
       " (1950, 'Wimbledon', None, 'American', 'Grass / Outdoor'),\n",
       " (1950, 'French Open', None, 'American', 'Clay'),\n",
       " (1950, 'Australian Open', None, 'Australian', 'Grass')]"
      ]
     },
     "execution_count": 22,
     "metadata": {},
     "output_type": "execute_result"
    }
   ],
   "source": [
    "cursor.fetchall()"
   ]
  },
  {
   "cell_type": "code",
   "execution_count": 23,
   "metadata": {
    "id": "sRMETSdHxnpH"
   },
   "outputs": [],
   "source": [
    "cursor.close()"
   ]
  },
  {
   "cell_type": "code",
   "execution_count": 24,
   "metadata": {
    "colab": {
     "base_uri": "https://localhost:8080/"
    },
    "id": "Q8mbt6YnL2Lq",
    "outputId": "e0201fdc-113a-44a7-c084-e2f1ec72ffbb"
   },
   "outputs": [
    {
     "name": "stdout",
     "output_type": "stream",
     "text": [
      "   YEAR       TOURNAMENT  WINNER_ATP_RANKING WINNER_NATIONALITY  \\\n",
      "0  2022      French Open                 5.0            Spanish   \n",
      "1  2022  Australian Open                 5.0            Spanish   \n",
      "2  2021        U.S. Open                 2.0            Russian   \n",
      "3  2021        Wimbledon                 1.0            Serbian   \n",
      "4  2021      French Open                 1.0            Serbian   \n",
      "\n",
      "      TOURNAMENT_SURFACE  WINNER_PRIZE  \n",
      "0                   Clay     1870000.0  \n",
      "1  Plexicushion Prestige     4400000.0  \n",
      "2    DecoTurf - outdoors     2500000.0  \n",
      "3        Grass / Outdoor     1700000.0  \n",
      "4                   Clay     1400000.0  \n"
     ]
    }
   ],
   "source": [
    "data_sql_1 = pd.read_sql(\"\"\"SELECT YEAR, TOURNAMENT, WINNER_ATP_RANKING, WINNER_NATIONALITY, TOURNAMENT_SURFACE, WINNER_PRIZE  \n",
    "              FROM Mens_Tennis_Grand_Slam_Winner\"\"\",conn)\n",
    "print(data_sql_1.head())"
   ]
  },
  {
   "cell_type": "code",
   "execution_count": 25,
   "metadata": {
    "colab": {
     "base_uri": "https://localhost:8080/"
    },
    "id": "8bjcgdDYdPge",
    "outputId": "a6a5ce76-3bd2-4cbb-c1c4-f7bd8c90a884"
   },
   "outputs": [
    {
     "name": "stdout",
     "output_type": "stream",
     "text": [
      "Opened database successfully\n"
     ]
    }
   ],
   "source": [
    "import sqlite3\n",
    "\n",
    "conn = sqlite3.connect('pd.read_csv(url)')\n",
    "\n",
    "print (\"Opened database successfully\")"
   ]
  },
  {
   "cell_type": "code",
   "execution_count": 28,
   "metadata": {
    "id": "YfeA0O1ddD-Q"
   },
   "outputs": [
    {
     "name": "stdout",
     "output_type": "stream",
     "text": [
      "Opened database successfully\n"
     ]
    },
    {
     "ename": "OperationalError",
     "evalue": "table Player already exists",
     "output_type": "error",
     "traceback": [
      "\u001b[1;31m---------------------------------------------------------------------------\u001b[0m",
      "\u001b[1;31mOperationalError\u001b[0m                          Traceback (most recent call last)",
      "\u001b[1;32m<ipython-input-28-f4204d12b368>\u001b[0m in \u001b[0;36m<module>\u001b[1;34m\u001b[0m\n\u001b[0;32m      1\u001b[0m \u001b[0mconn\u001b[0m \u001b[1;33m=\u001b[0m \u001b[0msqlite3\u001b[0m\u001b[1;33m.\u001b[0m\u001b[0mconnect\u001b[0m\u001b[1;33m(\u001b[0m\u001b[1;34m'pd.read_csv(url)'\u001b[0m\u001b[1;33m)\u001b[0m\u001b[1;33m\u001b[0m\u001b[1;33m\u001b[0m\u001b[0m\n\u001b[0;32m      2\u001b[0m \u001b[0mprint\u001b[0m \u001b[1;33m(\u001b[0m\u001b[1;34m\"Opened database successfully\"\u001b[0m\u001b[1;33m)\u001b[0m\u001b[1;33m;\u001b[0m\u001b[1;33m\u001b[0m\u001b[1;33m\u001b[0m\u001b[0m\n\u001b[1;32m----> 3\u001b[1;33m conn.execute('''CREATE TABLE Player\n\u001b[0m\u001b[0;32m      4\u001b[0m        (pindex INT PRIMARY KEY,\n\u001b[0;32m      5\u001b[0m        \u001b[0mpname\u001b[0m        \u001b[0mVARCHAR\u001b[0m\u001b[1;33m(\u001b[0m\u001b[1;36m100\u001b[0m\u001b[1;33m)\u001b[0m\u001b[1;33m,\u001b[0m\u001b[1;33m\u001b[0m\u001b[1;33m\u001b[0m\u001b[0m\n",
      "\u001b[1;31mOperationalError\u001b[0m: table Player already exists"
     ]
    }
   ],
   "source": [
    "conn = sqlite3.connect('pd.read_csv(url)')\n",
    "print (\"Opened database successfully\");\n",
    "conn.execute('''CREATE TABLE Player\n",
    "       (pindex INT PRIMARY KEY,\n",
    "       pname        VARCHAR(100),\n",
    "       nationality      VARCHAR(100),\n",
    "       hand           BOOLEAN);''')\n",
    "print (\"Table created successfully\");"
   ]
  },
  {
   "cell_type": "code",
   "execution_count": 29,
   "metadata": {
    "colab": {
     "base_uri": "https://localhost:8080/",
     "height": 190
    },
    "id": "TkFInCQN3qXu",
    "outputId": "03fa2630-44c1-4966-aeef-aa877f3f3c4b"
   },
   "outputs": [
    {
     "ename": "OperationalError",
     "evalue": "database is locked",
     "output_type": "error",
     "traceback": [
      "\u001b[1;31m---------------------------------------------------------------------------\u001b[0m",
      "\u001b[1;31mOperationalError\u001b[0m                          Traceback (most recent call last)",
      "\u001b[1;32m<ipython-input-29-ac8850de7001>\u001b[0m in \u001b[0;36m<module>\u001b[1;34m\u001b[0m\n\u001b[0;32m      1\u001b[0m \u001b[1;31m#In case the table is created earleir\u001b[0m\u001b[1;33m\u001b[0m\u001b[1;33m\u001b[0m\u001b[1;33m\u001b[0m\u001b[0m\n\u001b[1;32m----> 2\u001b[1;33m \u001b[0mconn\u001b[0m\u001b[1;33m.\u001b[0m\u001b[0mexecute\u001b[0m\u001b[1;33m(\u001b[0m\u001b[1;34m'DROP TABLE Player'\u001b[0m\u001b[1;33m)\u001b[0m\u001b[1;33m\u001b[0m\u001b[1;33m\u001b[0m\u001b[0m\n\u001b[0m",
      "\u001b[1;31mOperationalError\u001b[0m: database is locked"
     ]
    }
   ],
   "source": [
    "#In case the table is created earleir\n",
    "conn.execute('DROP TABLE Player')"
   ]
  },
  {
   "cell_type": "code",
   "execution_count": 12,
   "metadata": {
    "id": "NHcbYzgI9yGH"
   },
   "outputs": [],
   "source": [
    "#Definition\n",
    "def insert(pname, nationality):\n",
    "  try: \n",
    "    sql_insert = '''INSERT INTO Player(pname, nationality) \n",
    "          VALUES (?, ?);'''\n",
    "    data_tuple = (pname, nationality)\n",
    "    cursor.execute(sql_insert, data_tuple)\n",
    "    sqliteConnection.commit()\n",
    "    print(\"Python variable inserted\")\n",
    "  except sqlite3.Error as error:\n",
    "    print(\"failed\")"
   ]
  },
  {
   "cell_type": "code",
   "execution_count": 13,
   "metadata": {
    "id": "tzbYnAD1QSHT"
   },
   "outputs": [
    {
     "ename": "OperationalError",
     "evalue": "no such table: Mens_Tennis_Grand_Slam_Winner",
     "output_type": "error",
     "traceback": [
      "\u001b[1;31m---------------------------------------------------------------------------\u001b[0m",
      "\u001b[1;31mOperationalError\u001b[0m                          Traceback (most recent call last)",
      "\u001b[1;32m<ipython-input-13-3b7d46229b19>\u001b[0m in \u001b[0;36m<module>\u001b[1;34m\u001b[0m\n\u001b[0;32m      1\u001b[0m \u001b[1;31m#query\u001b[0m\u001b[1;33m\u001b[0m\u001b[1;33m\u001b[0m\u001b[1;33m\u001b[0m\u001b[0m\n\u001b[0;32m      2\u001b[0m \u001b[0mcursor\u001b[0m \u001b[1;33m=\u001b[0m \u001b[0mconn\u001b[0m\u001b[1;33m.\u001b[0m\u001b[0mcursor\u001b[0m\u001b[1;33m(\u001b[0m\u001b[1;33m)\u001b[0m\u001b[1;33m\u001b[0m\u001b[1;33m\u001b[0m\u001b[0m\n\u001b[1;32m----> 3\u001b[1;33m Name = cursor.execute(\"\"\"\n\u001b[0m\u001b[0;32m      4\u001b[0m \u001b[0mSELECT\u001b[0m \u001b[0mDISTINCT\u001b[0m \u001b[1;33m*\u001b[0m \u001b[0mFROM\u001b[0m\u001b[1;33m\u001b[0m\u001b[1;33m\u001b[0m\u001b[0m\n\u001b[0;32m      5\u001b[0m (SELECT DISTINCT WINNER , WINNER_NATIONALITY\n",
      "\u001b[1;31mOperationalError\u001b[0m: no such table: Mens_Tennis_Grand_Slam_Winner"
     ]
    }
   ],
   "source": [
    "#query\n",
    "cursor = conn.cursor()\n",
    "Name = cursor.execute(\"\"\"\n",
    "SELECT DISTINCT * FROM\n",
    "(SELECT DISTINCT WINNER , WINNER_NATIONALITY\n",
    "FROM Mens_Tennis_Grand_Slam_Winner\n",
    "\n",
    "UNION ALL\n",
    "\n",
    "SELECT DISTINCT \"RUNNER-UP\", WINNER_NATIONALITY\n",
    "FROM Mens_Tennis_Grand_Slam_Winner)\"\"\")\n",
    "\n",
    "cursor.fetchone()\n"
   ]
  },
  {
   "cell_type": "code",
   "execution_count": 14,
   "metadata": {
    "id": "wKgjnBa7j2lg"
   },
   "outputs": [
    {
     "ename": "IntegrityError",
     "evalue": "NOT NULL constraint failed: Player.pindex",
     "output_type": "error",
     "traceback": [
      "\u001b[1;31m---------------------------------------------------------------------------\u001b[0m",
      "\u001b[1;31mIntegrityError\u001b[0m                            Traceback (most recent call last)",
      "\u001b[1;32m<ipython-input-14-636e04775d21>\u001b[0m in \u001b[0;36m<module>\u001b[1;34m\u001b[0m\n\u001b[0;32m      4\u001b[0m           VALUES (?, ?);'''\n\u001b[0;32m      5\u001b[0m \u001b[0mdata_tuple\u001b[0m \u001b[1;33m=\u001b[0m \u001b[1;33m(\u001b[0m\u001b[1;34m'pname'\u001b[0m\u001b[1;33m,\u001b[0m \u001b[1;34m'nationality'\u001b[0m\u001b[1;33m)\u001b[0m\u001b[1;33m\u001b[0m\u001b[1;33m\u001b[0m\u001b[0m\n\u001b[1;32m----> 6\u001b[1;33m \u001b[0mcursor\u001b[0m\u001b[1;33m.\u001b[0m\u001b[0mexecute\u001b[0m\u001b[1;33m(\u001b[0m\u001b[0msql_insert\u001b[0m\u001b[1;33m,\u001b[0m \u001b[0mdata_tuple\u001b[0m\u001b[1;33m)\u001b[0m\u001b[1;33m\u001b[0m\u001b[1;33m\u001b[0m\u001b[0m\n\u001b[0m\u001b[0;32m      7\u001b[0m \u001b[0msqliteConnection\u001b[0m\u001b[1;33m.\u001b[0m\u001b[0mcommit\u001b[0m\u001b[1;33m(\u001b[0m\u001b[1;33m)\u001b[0m\u001b[1;33m\u001b[0m\u001b[1;33m\u001b[0m\u001b[0m\n\u001b[0;32m      8\u001b[0m \u001b[0mprint\u001b[0m\u001b[1;33m(\u001b[0m\u001b[1;34m\"Python variable inserted\"\u001b[0m\u001b[1;33m)\u001b[0m\u001b[1;33m\u001b[0m\u001b[1;33m\u001b[0m\u001b[0m\n",
      "\u001b[1;31mIntegrityError\u001b[0m: NOT NULL constraint failed: Player.pindex"
     ]
    }
   ],
   "source": [
    "cursor = conn.cursor()\n",
    "Name = cursor.execute\n",
    "sql_insert = '''INSERT INTO Player(pname, nationality) \n",
    "          VALUES (?, ?);'''\n",
    "data_tuple = ('pname', 'nationality')\n",
    "cursor.execute(sql_insert, data_tuple)\n",
    "sqliteConnection.commit()\n",
    "print(\"Python variable inserted\")\n"
   ]
  },
  {
   "cell_type": "code",
   "execution_count": null,
   "metadata": {
    "id": "KtcGceKwg81h"
   },
   "outputs": [],
   "source": [
    "cursor = conn.cursor()\n",
    "Name = cursor.execute(\"\"\"\n",
    "SELECT * FROM Player\n",
    "\n",
    "\"\"\")\n",
    "\n",
    "cursor.fetchone()"
   ]
  },
  {
   "cell_type": "code",
   "execution_count": null,
   "metadata": {
    "id": "RJUTd7jSle1b"
   },
   "outputs": [],
   "source": [
    "import sqlite3\n",
    "\n",
    "conn = sqlite3.connect('pd.read_csv(url)')\n",
    "print (\"Opened database successfully\");\n",
    "\n",
    "conn.execute('''CREATE TABLE Rank\n",
    "       (tname CHAR (100) PRIMARY KEY     NOT NULL,\n",
    "       pname  CHAR (100)    NOT NULL,\n",
    "       year   INT NOT NULL,\n",
    "       ranking  INT    NOT NULL   );''')\n",
    "print (\"Table created successfully\");"
   ]
  },
  {
   "cell_type": "code",
   "execution_count": null,
   "metadata": {
    "id": "zkF9sOlfeSxl"
   },
   "outputs": [],
   "source": [
    "#tournament table\n",
    "conn = sqlite3.connect('pd.read_csv(url)')\n",
    "print (\"Opened database successfully\");\n",
    "conn.execute('''CREATE TABLE Tournament\n",
    "       (tindex INT PRIMARY KEY     NOT NULL,\n",
    "       tname        VARCHAR(100)    NOT NULL,\n",
    "       year      INT     NOT NULL,\n",
    "       surface           BOOLEAN    NOT NULL   );''')\n",
    "print (\"Table created successfully\");\n",
    "\n",
    "Tournament{tindex(integer), tname(string), year(integer), surface(string), prize(real)}\n"
   ]
  },
  {
   "cell_type": "code",
   "execution_count": null,
   "metadata": {
    "id": "ClRsgohqpHcy"
   },
   "outputs": [],
   "source": [
    "cursor = conn.cursor()\n",
    "Tournament_item = cursor.execute(\"\"\"\n",
    "SELECT DISTINCT * FROM\n",
    "(SELECT DISTINCT TOURNAMENT , TOURNAMENT_SURFACE, YEAR, WINNER_PRIZE\n",
    "FROM Mens_Tennis_Grand_Slam_Winner\n",
    ")\n",
    "\"\"\")\n",
    "\n",
    "cursor.fetchone()"
   ]
  },
  {
   "cell_type": "code",
   "execution_count": null,
   "metadata": {
    "id": "3ownI_P_qv9b"
   },
   "outputs": [],
   "source": [
    "def insert_tournament(tname,year,surface,prize):\n",
    "  try: \n",
    "    sql_insert = '''INSERT INTO Tournament(tname,year,surface,prize) \n",
    "          VALUES (?, ?, ?, ?);'''\n",
    "    data_tuple = (tname,year,surface,prize)\n",
    "    cursor.execute(sql_insert, data_tuple)\n",
    "    sqliteConnection.commit()\n",
    "    print(\"Python variable inserted\")\n",
    "  except sqlite3.Error as error:\n",
    "    print(\"failed\")"
   ]
  },
  {
   "cell_type": "code",
   "execution_count": null,
   "metadata": {
    "id": "VxTaDhY0qwwk"
   },
   "outputs": [],
   "source": []
  },
  {
   "cell_type": "code",
   "execution_count": null,
   "metadata": {
    "id": "aX47T4-GX0RX"
   },
   "outputs": [],
   "source": [
    "from string import Template\n",
    "def test(tp):\n",
    "   tp = (data_sql_1.head())\n",
    "def get_greet_str(tp):\n",
    "  return 'the game is held in' + tp + '!'\n",
    "def greet(tp):\n",
    "  print(get_greet_str(tp))\n",
    "greet(input(\"The game year in country is?\"))\n",
    "print('Done')"
   ]
  },
  {
   "cell_type": "code",
   "execution_count": null,
   "metadata": {
    "id": "yLnTP5PcMdKl"
   },
   "outputs": [],
   "source": [
    "data_sql_1.plot(y=\"WINNER_ATP_RANKING\",kind=\"hist\");"
   ]
  },
  {
   "cell_type": "code",
   "execution_count": null,
   "metadata": {
    "id": "cHz8Fpc8Na9w"
   },
   "outputs": [],
   "source": [
    "data_sql_2 = pd.read_sql(\"\"\"\n",
    "                        SELECT YEAR,WINNER_NATIONALITY,WINNER_PRIZE\n",
    "                        FROM Mens_Tennis_Grand_Slam_Winner\n",
    "                        WHERE WINNER_PRIZE > 3000000\n",
    "                        \"\"\",\n",
    "                        conn)\n",
    "\n",
    "\n",
    "data_sql_2.plot(x=\"YEAR\",y=\"WINNER_PRIZE\",kind=\"line\");"
   ]
  },
  {
   "cell_type": "code",
   "execution_count": null,
   "metadata": {
    "id": "MT-VnoS9O80r"
   },
   "outputs": [],
   "source": [
    "conn.close()"
   ]
  }
 ],
 "metadata": {
  "colab": {
   "provenance": []
  },
  "kernelspec": {
   "display_name": "Python 3",
   "language": "python",
   "name": "python3"
  },
  "language_info": {
   "codemirror_mode": {
    "name": "ipython",
    "version": 3
   },
   "file_extension": ".py",
   "mimetype": "text/x-python",
   "name": "python",
   "nbconvert_exporter": "python",
   "pygments_lexer": "ipython3",
   "version": "3.8.5"
  }
 },
 "nbformat": 4,
 "nbformat_minor": 1
}
